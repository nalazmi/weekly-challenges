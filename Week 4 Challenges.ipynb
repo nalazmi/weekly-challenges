{
  "nbformat": 4,
  "nbformat_minor": 0,
  "metadata": {
    "colab": {
      "provenance": [],
      "gpuType": "T4"
    },
    "kernelspec": {
      "name": "python3",
      "display_name": "Python 3"
    },
    "language_info": {
      "name": "python"
    },
    "accelerator": "GPU"
  },
  "cells": [
    {
      "cell_type": "markdown",
      "source": [
        "**Week 4**\n",
        "\n",
        "**Challenges**\n",
        "\n",
        "**ECE 410/510**\n",
        "\n",
        "**Spring 2025**"
      ],
      "metadata": {
        "id": "6IOOMrT4pQIF"
      }
    },
    {
      "cell_type": "markdown",
      "source": [
        "*Challenge #13: Benchmarking different SAXPY problem sizes.*"
      ],
      "metadata": {
        "id": "t9R0IE67phKb"
      }
    },
    {
      "cell_type": "code",
      "execution_count": 3,
      "metadata": {
        "colab": {
          "base_uri": "https://localhost:8080/"
        },
        "id": "Qmc7Aoh0oxmb",
        "outputId": "d9e678a1-09c8-4b66-e284-85e6546c8d7d"
      },
      "outputs": [
        {
          "output_type": "stream",
          "name": "stdout",
          "text": [
            "nvcc: NVIDIA (R) Cuda compiler driver\n",
            "Copyright (c) 2005-2024 NVIDIA Corporation\n",
            "Built on Thu_Jun__6_02:18:23_PDT_2024\n",
            "Cuda compilation tools, release 12.5, V12.5.82\n",
            "Build cuda_12.5.r12.5/compiler.34385749_0\n"
          ]
        }
      ],
      "source": [
        "!nvcc --version"
      ]
    },
    {
      "cell_type": "code",
      "source": [
        "%%writefile saxpy.cu\n",
        "#include <stdio.h>\n",
        "\n",
        "__global__\n",
        "void saxpy(int n, float a, float *x, float *y) {\n",
        "    int i = blockIdx.x * blockDim.x + threadIdx.x;\n",
        "    if (i < n) y[i] = a * x[i] + y[i];\n",
        "}\n",
        "\n",
        "int main(void) {\n",
        "    int N = 1<<20;\n",
        "    float *x, *y, *d_x, *d_y;\n",
        "    x = (float*)malloc(N * sizeof(float));\n",
        "    y = (float*)malloc(N * sizeof(float));\n",
        "\n",
        "    cudaMalloc(&d_x, N * sizeof(float));\n",
        "    cudaMalloc(&d_y, N * sizeof(float));\n",
        "\n",
        "    for (int i = 0; i < N; i++) {\n",
        "        x[i] = 1.0f;\n",
        "        y[i] = 2.0f;\n",
        "    }\n",
        "\n",
        "    cudaMemcpy(d_x, x, N * sizeof(float), cudaMemcpyHostToDevice);\n",
        "    cudaMemcpy(d_y, y, N * sizeof(float), cudaMemcpyHostToDevice);\n",
        "\n",
        "    saxpy<<<(N + 255) / 256, 256>>>(N, 2.0f, d_x, d_y);\n",
        "\n",
        "    cudaMemcpy(y, d_y, N * sizeof(float), cudaMemcpyDeviceToHost);\n",
        "\n",
        "    float maxError = 0.0f;\n",
        "    for (int i = 0; i < N; i++)\n",
        "        maxError = max(maxError, abs(y[i] - 4.0f));\n",
        "    printf(\"Max error: %f\\n\", maxError);\n",
        "\n",
        "    cudaFree(d_x);\n",
        "    cudaFree(d_y);\n",
        "    free(x);\n",
        "    free(y);\n",
        "\n",
        "    return 0;\n",
        "}"
      ],
      "metadata": {
        "colab": {
          "base_uri": "https://localhost:8080/"
        },
        "id": "cKMtVuDGo9i5",
        "outputId": "c2d20868-f238-44ea-b70d-de6f62f1ccf8"
      },
      "execution_count": 1,
      "outputs": [
        {
          "output_type": "stream",
          "name": "stdout",
          "text": [
            "Writing saxpy.cu\n"
          ]
        }
      ]
    },
    {
      "cell_type": "code",
      "source": [
        "!nvcc -o saxpy saxpy.cu\n",
        "!./saxpy"
      ],
      "metadata": {
        "colab": {
          "base_uri": "https://localhost:8080/"
        },
        "id": "6Nz8FY_BsbIk",
        "outputId": "bc1adee7-2cfd-4bfc-b1ec-0c3346084354"
      },
      "execution_count": 2,
      "outputs": [
        {
          "output_type": "stream",
          "name": "stdout",
          "text": [
            "Max error: 2.000000\n"
          ]
        }
      ]
    },
    {
      "cell_type": "code",
      "source": [
        "%%writefile saxpy_benchmark.cu\n",
        "#include <stdio.h>\n",
        "#include <cuda_runtime.h>\n",
        "\n",
        "__global__\n",
        "void saxpy(int n, float a, float *x, float *y) {\n",
        "    int i = blockIdx.x * blockDim.x + threadIdx.x;\n",
        "    if (i < n) y[i] = a * x[i] + y[i];\n",
        "}\n",
        "\n",
        "int main(void) {\n",
        "    int sizes[] = {1<<15, 1<<16, 1<<17, 1<<18, 1<<19, 1<<20, 1<<21, 1<<22, 1<<23, 1<<24, 1<<25};\n",
        "    int num_sizes = sizeof(sizes) / sizeof(sizes[0]);\n",
        "\n",
        "    for (int s = 0; s < num_sizes; s++) {\n",
        "        int N = sizes[s];\n",
        "        float *x, *y, *d_x, *d_y;\n",
        "        x = (float*)malloc(N * sizeof(float));\n",
        "        y = (float*)malloc(N * sizeof(float));\n",
        "\n",
        "        cudaMalloc(&d_x, N * sizeof(float));\n",
        "        cudaMalloc(&d_y, N * sizeof(float));\n",
        "\n",
        "        for (int i = 0; i < N; i++) {\n",
        "            x[i] = 1.0f;\n",
        "            y[i] = 2.0f;\n",
        "        }\n",
        "\n",
        "        cudaMemcpy(d_x, x, N * sizeof(float), cudaMemcpyHostToDevice);\n",
        "        cudaMemcpy(d_y, y, N * sizeof(float), cudaMemcpyHostToDevice);\n",
        "\n",
        "        cudaEvent_t start, stop;\n",
        "        cudaEventCreate(&start);\n",
        "        cudaEventCreate(&stop);\n",
        "\n",
        "        cudaEventRecord(start);\n",
        "        saxpy<<<(N + 255) / 256, 256>>>(N, 2.0f, d_x, d_y);\n",
        "        cudaEventRecord(stop);\n",
        "\n",
        "        cudaMemcpy(y, d_y, N * sizeof(float), cudaMemcpyDeviceToHost);\n",
        "\n",
        "        cudaEventSynchronize(stop);\n",
        "        float milliseconds = 0;\n",
        "        cudaEventElapsedTime(&milliseconds, start, stop);\n",
        "\n",
        "        printf(\"N = %d, Time = %f ms\\n\", N, milliseconds);\n",
        "\n",
        "        cudaFree(d_x);\n",
        "        cudaFree(d_y);\n",
        "        free(x);\n",
        "        free(y);\n",
        "    }\n",
        "\n",
        "    return 0;\n",
        "}"
      ],
      "metadata": {
        "colab": {
          "base_uri": "https://localhost:8080/"
        },
        "id": "JO7lMwqesf2L",
        "outputId": "4b85cfc8-8ad8-4c2f-a3ba-ff60ebef6a69"
      },
      "execution_count": 3,
      "outputs": [
        {
          "output_type": "stream",
          "name": "stdout",
          "text": [
            "Writing saxpy_benchmark.cu\n"
          ]
        }
      ]
    },
    {
      "cell_type": "code",
      "source": [
        "!nvcc -o saxpy_benchmark saxpy_benchmark.cu\n",
        "!./saxpy_benchmark"
      ],
      "metadata": {
        "colab": {
          "base_uri": "https://localhost:8080/"
        },
        "id": "BfeWDdonskpq",
        "outputId": "b2f8f22e-c0c3-4460-86b2-6141cd7d8a19"
      },
      "execution_count": 4,
      "outputs": [
        {
          "output_type": "stream",
          "name": "stdout",
          "text": [
            "N = 32768, Time = 8.049728 ms\n",
            "N = 65536, Time = 0.002528 ms\n",
            "N = 131072, Time = 0.002976 ms\n",
            "N = 262144, Time = 0.003008 ms\n",
            "N = 524288, Time = 0.003008 ms\n",
            "N = 1048576, Time = 0.003008 ms\n",
            "N = 2097152, Time = 0.002976 ms\n",
            "N = 4194304, Time = 0.003008 ms\n",
            "N = 8388608, Time = 0.003072 ms\n",
            "N = 16777216, Time = 0.003008 ms\n",
            "N = 33554432, Time = 0.003008 ms\n"
          ]
        }
      ]
    },
    {
      "cell_type": "code",
      "source": [
        "import matplotlib.pyplot as plt\n",
        "\n",
        "sizes = [2**16, 2**17, 2**18, 2**19, 2**20, 2**21, 2**22, 2**23, 2**24, 2**25]\n",
        "times = [0.002528, 0.002976, 0.003008, 0.003008, 0.003008, 0.002976, 0.003008, 0.003072, 0.003008, 0.003008]\n",
        "\n",
        "plt.figure(figsize=(10, 6))\n",
        "plt.bar(sizes, times, color=\"blue\", width=3e6)\n",
        "\n",
        "plt.xlabel(\"N: Problem Size\", fontsize=14)\n",
        "plt.ylabel(\"Execution Time (ms)\", fontsize=14)\n",
        "plt.title(\"CUDA SAXPY Benchmark\", fontsize=16)\n",
        "\n",
        "plt.xscale(\"log\")\n",
        "plt.xticks(sizes, labels=[f\"2^{i}\" for i in range(16, 26)], fontsize=12)\n",
        "\n",
        "plt.ylim(0, max(times) * 1.2)\n",
        "\n",
        "plt.grid(axis=\"y\", linestyle=\"--\", alpha=0.7)\n",
        "plt.show()"
      ],
      "metadata": {
        "colab": {
          "base_uri": "https://localhost:8080/",
          "height": 575
        },
        "id": "BsRhAYzusoh8",
        "outputId": "56ad3edf-5361-4e12-d781-a0304c117a98"
      },
      "execution_count": 5,
      "outputs": [
        {
          "output_type": "display_data",
          "data": {
            "text/plain": [
              "<Figure size 1000x600 with 1 Axes>"
            ],
            "image/png": "[encoded data removed]"
          },
          "metadata": {}
        }
      ]
    },
    {
      "cell_type": "markdown",
      "source": [
        "From the plot, we can see that as array sizes increase we see execution times increase somewhat linearly with the data size."
      ],
      "metadata": {
        "id": "UeGXvJAUwsut"
      }
    },
    {
      "cell_type": "markdown",
      "source": [
        "*Challenge #14: Fibonacci sequence in CUDA*"
      ],
      "metadata": {
        "id": "Zy8UbeMf1Th6"
      }
    },
    {
      "cell_type": "code",
      "source": [
        "%%writefile fibonacci.cu\n",
        "#include <stdio.h>\n",
        "\n",
        "__global__\n",
        "void fibonacci_kernel(int *fib, int n) {\n",
        "    for (int i = 2; i < n; i++) {\n",
        "        fib[i] = fib[i-1] + fib[i-2];\n",
        "    }\n",
        "}\n",
        "\n",
        "int main() {\n",
        "    int N = 2^20;\n",
        "    int *fib, *d_fib;\n",
        "\n",
        "    fib = (int*)malloc(N * sizeof(int));\n",
        "    fib[0] = 0;\n",
        "    fib[1] = 1;\n",
        "    for (int i = 2; i < N; i++) {\n",
        "        fib[i] = -1;  // Set to -1 to detect if kernel updates\n",
        "    }\n",
        "\n",
        "    cudaError_t err = cudaMalloc(&d_fib, N * sizeof(int));\n",
        "    if (err != cudaSuccess) {\n",
        "        printf(\"cudaMalloc failed: %s\\n\", cudaGetErrorString(err));\n",
        "        free(fib);\n",
        "        return 1;\n",
        "    }\n",
        "\n",
        "    err = cudaMemcpy(d_fib, fib, N * sizeof(int), cudaMemcpyHostToDevice);\n",
        "    if (err != cudaSuccess) {\n",
        "        printf(\"cudaMemcpy to device failed: %s\\n\", cudaGetErrorString(err));\n",
        "        cudaFree(d_fib);\n",
        "        free(fib);\n",
        "        return 1;\n",
        "    }\n",
        "\n",
        "    fibonacci_kernel<<<1, 1>>>(d_fib, N);\n",
        "    err = cudaGetLastError();\n",
        "    if (err != cudaSuccess) {\n",
        "        printf(\"Kernel launch failed: %s\\n\", cudaGetErrorString(err));\n",
        "        cudaFree(d_fib);\n",
        "        free(fib);\n",
        "        return 1;\n",
        "    }\n",
        "\n",
        "    cudaDeviceSynchronize();\n",
        "\n",
        "    // Copy back to host\n",
        "    err = cudaMemcpy(fib, d_fib, N * sizeof(int), cudaMemcpyDeviceToHost);\n",
        "    if (err != cudaSuccess) {\n",
        "        printf(\"cudaMemcpy to host failed: %s\\n\", cudaGetErrorString(err));\n",
        "        cudaFree(d_fib);\n",
        "        free(fib);\n",
        "        return 1;\n",
        "    }\n",
        "\n",
        "    for (int i = 0; i < N; i++) {\n",
        "        printf(\"%d \", fib[i]);\n",
        "    }\n",
        "    printf(\"\\n\");\n",
        "\n",
        "    cudaFree(d_fib);\n",
        "    free(fib);\n",
        "    return 0;\n",
        "}"
      ],
      "metadata": {
        "colab": {
          "base_uri": "https://localhost:8080/"
        },
        "id": "TzPQWgnt1Ikr",
        "outputId": "a8fcdb5e-d90b-4ebc-8840-b8e49dd0b129"
      },
      "execution_count": 14,
      "outputs": [
        {
          "output_type": "stream",
          "name": "stdout",
          "text": [
            "Overwriting fibonacci.cu\n"
          ]
        }
      ]
    },
    {
      "cell_type": "code",
      "source": [
        "!nvcc -o fibonacci fibonacci.cu -arch=sm_75"
      ],
      "metadata": {
        "id": "FIlMJL0y1jTl"
      },
      "execution_count": 15,
      "outputs": []
    },
    {
      "cell_type": "code",
      "source": [
        "!./fibonacci"
      ],
      "metadata": {
        "colab": {
          "base_uri": "https://localhost:8080/"
        },
        "id": "qy1ncYGj1m5a",
        "outputId": "9ad087cd-1675-4596-c2d3-d41904e7c6cf"
      },
      "execution_count": 16,
      "outputs": [
        {
          "output_type": "stream",
          "name": "stdout",
          "text": [
            "0 1 1 2 3 5 8 13 21 34 55 89 144 233 377 610 987 1597 2584 4181 6765 10946 \n"
          ]
        }
      ]
    },
    {
      "cell_type": "markdown",
      "source": [
        "Sequential Implementation runs on the CPU using a single thread and each Fibonacci number is computed iteratively by directly accessing the previous two values in memory.In this case, we have no parallelism; the computation is inherently sequential due to the dependency F[n]=F[n-1] + F[n-2]\n",
        "\n",
        "\n",
        "In CUDA Implementation, despite being on the GPU the computation remains sequential because a single thread performs the entire loop.\n",
        "CPU is Faster due to no overhead and efficient sequential execution while CUDA in single-threaded format is slower due to overhead and lack of parallelism. A single GPU thread isn't optimized for this task.\n",
        "\n",
        " So, sequential CPU implementation is straightforward and efficient, producing the sequence in milliseconds. The single-threaded CUDA version works but is less efficient due to overhead and doesn't leverage the GPU's parallel capabilities.\n",
        "\n",
        "\n",
        "\n",
        "\n",
        "\n",
        "\n"
      ],
      "metadata": {
        "id": "tbDuYBpu2dG9"
      }
    },
    {
      "cell_type": "code",
      "source": [],
      "metadata": {
        "id": "lMig5-KR4DlJ"
      },
      "execution_count": null,
      "outputs": []
    }
  ]
}